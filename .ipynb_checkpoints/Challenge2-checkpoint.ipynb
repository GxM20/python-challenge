{
 "cells": [
  {
   "cell_type": "code",
   "execution_count": 1,
   "id": "f3876447-04bf-4ecb-9d7f-44fd3b9be5fa",
   "metadata": {},
   "outputs": [],
   "source": [
    "# import functions and libraries\n",
    "\n",
    "from pathlib import Path\n",
    "import csv\n",
    "\n",
    "# initialize record list and line_num variable\n",
    "record = []\n",
    "entries = 0\n",
    "line_num = 0"
   ]
  },
  {
   "cell_type": "code",
   "execution_count": 2,
   "id": "2fa49a9c-2d94-4e69-9177-025b14ed21ff",
   "metadata": {},
   "outputs": [],
   "source": [
    "# look for input file\n",
    "csvpath = Path(\"Starter_Code/PyBank/Resources/budget_data.csv\")"
   ]
  },
  {
   "cell_type": "code",
   "execution_count": 3,
   "id": "c9f54c79-26bc-44a2-878b-008a6b00f5a2",
   "metadata": {},
   "outputs": [
    {
     "name": "stdout",
     "output_type": "stream",
     "text": [
      "[867884, 984655, 322013, -69417, 310503, 522857, 1033096, 604885, -216386, 477532, 893810, -80353, 779806, -335203, 697845, 793163, 485070, 584122, 62729, 668179, 899906, 834719, 132003, 309978, -755566, 1170593, 252788, 1151518, 817256, 570757, 506702, -1022534, 475062, 779976, 144175, 542494, 359333, 321469, 67780, 471435, 565603, 872480, 789480, 999942, -1196225, 268997, -687986, 1150461, 682458, 617856, 824098, 581943, 132864, 448062, 689161, 800701, 1166643, 947333, 578668, 988505, 1139715, 1029471, 687533, -524626, 158620, 87795, 423389, 840723, 568529, 332067, 989499, 778237, 650000, -1100387, -174946, 757143, 445709, 712961, -1163797, 569899, 768450, 102685, 795914, 60988, 138230, 671099]\n"
     ]
    }
   ],
   "source": [
    "# open the file in read mode\n",
    "with open(csvpath, 'r') as csvfile:\n",
    "    csvreader = csv.reader(csvfile, delimiter=',')\n",
    "    header = next(csvreader)\n",
    "    line_num += 1\n",
    "# loop through file, sort and append variables\n",
    "    for row in csvreader:\n",
    "        date = row[0]\n",
    "        revenue = int(row[1])\n",
    "        record.append(revenue)\n",
    "print(record)\n"
   ]
  },
  {
   "cell_type": "code",
   "execution_count": 4,
   "id": "f9ffeaf9-8f0f-44d5-810c-9b70c809b8e4",
   "metadata": {},
   "outputs": [],
   "source": [
    "# initialize metrics\n",
    "total_months = 0\n",
    "total_revenue = 0\n",
    "greatest_increase = 0\n",
    "greatest_decrease = 0\n",
    "avg_profit = 0"
   ]
  },
  {
   "cell_type": "code",
   "execution_count": 5,
   "id": "e6b2a3b4-a263-4d77-81fa-eff16075f85b",
   "metadata": {},
   "outputs": [
    {
     "name": "stdout",
     "output_type": "stream",
     "text": [
      "671099\n"
     ]
    }
   ],
   "source": [
    "# Calculate best day, worst day, and average\n",
    "for revenue in record:\n",
    "\n",
    "# add up entries and revenue\n",
    "    entries += 1\n",
    "    total_revenue += revenue\n",
    "    if revenue == 0:\n",
    "        greatest_increase = revenue\n",
    "    elif greatest_increase > revenue:\n",
    "        greatest_increase = revenue\n",
    "print(revenue)\n",
    "    "
   ]
  },
  {
   "cell_type": "code",
   "execution_count": null,
   "id": "01c9a853-b12a-42c5-8dd5-52a73d555c1c",
   "metadata": {},
   "outputs": [],
   "source": []
  }
 ],
 "metadata": {
  "kernelspec": {
   "display_name": "Python 3 (ipykernel)",
   "language": "python",
   "name": "python3"
  },
  "language_info": {
   "codemirror_mode": {
    "name": "ipython",
    "version": 3
   },
   "file_extension": ".py",
   "mimetype": "text/x-python",
   "name": "python",
   "nbconvert_exporter": "python",
   "pygments_lexer": "ipython3",
   "version": "3.11.5"
  }
 },
 "nbformat": 4,
 "nbformat_minor": 5
}
