{
 "cells": [
  {
   "cell_type": "code",
   "execution_count": 1,
   "id": "49b1f7a5-00e6-45e2-9a78-c69f2d8ae2c9",
   "metadata": {},
   "outputs": [],
   "source": [
    "# import functions and libraries\n",
    "\n",
    "from pathlib import Path\n",
    "import csv\n",
    "\n",
    "# initialize lists and variables\n",
    "record = []\n",
    "changes = []\n",
    "greatest_increase = [\"\", 0]\n",
    "greatest_decrease = [\"\", 9999999999999999999]\n",
    "entries = 0\n",
    "total_months = 0\n",
    "net_total = 0"
   ]
  },
  {
   "cell_type": "code",
   "execution_count": 2,
   "id": "7aa5b8e4-e160-4e48-82db-575fab479e31",
   "metadata": {},
   "outputs": [],
   "source": [
    "# look for input file\n",
    "csvpath = Path(\"Starter_Code/PyBank/Resources/budget_data.csv\")"
   ]
  },
  {
   "cell_type": "code",
   "execution_count": 3,
   "id": "96076f9a-8998-4da5-9a14-159e4340c517",
   "metadata": {
    "scrolled": true
   },
   "outputs": [
    {
     "name": "stdout",
     "output_type": "stream",
     "text": [
      "Financial Analysis\n",
      "-------------------------\n",
      "Total months:  86\n",
      "Total: $ 38382578\n",
      "Average Change: $ -2315.1176470588234\n",
      "Greatest Increase in Profits: Feb-2012 ($ 1926159 )\n",
      "Greatest Decrease in Profits: Sep-2013 ($ -2196167 )\n"
     ]
    }
   ],
   "source": [
    "# open the file in read mode\n",
    "with open(csvpath, 'r') as csvfile:\n",
    "    csvreader = csv.reader(csvfile, delimiter=',')\n",
    "    header = next(csvreader)\n",
    "# loop through file, sort and append record list\n",
    "    for row in csvreader:\n",
    "        date = row[0]\n",
    "        revenue = int(row[1])\n",
    "        record.append(revenue)\n",
    "        # Add the total number of months in dataset\n",
    "        total_months += 1\n",
    "        # Add up the total profit/losses over the entire period\n",
    "        net_total += revenue\n",
    "        # Calculate the average change per month\n",
    "        if total_months > 1:\n",
    "            change_in_profit = revenue - record[total_months - 2]\n",
    "            # append changes list from change_in_profit variable\n",
    "            changes.append(change_in_profit)\n",
    "            # definte average_change variable as sum of changes / length of changes\n",
    "            average_change = sum(changes) / len(changes)\n",
    "        \n",
    "    # Calculate greatest increase\n",
    "            if change_in_profit > greatest_increase[1]:\n",
    "                # add month of greatest increase to greatest_increase list\n",
    "                greatest_increase[0] = date\n",
    "                # add the change in profit for greatest increase to list\n",
    "                greatest_increase[1] = change_in_profit\n",
    "    # Calculate the greatest decrease\n",
    "            if change_in_profit < greatest_decrease[1]:\n",
    "                # add month of greatest decrease to greatest_decrease list\n",
    "                greatest_decrease[0] = row[0]\n",
    "                # add the change in profit for greatest decrease to list\n",
    "                greatest_decrease[1] = change_in_profit\n",
    "# Print outputs\n",
    "print(\"Financial Analysis\")\n",
    "print(\"-------------------------\")\n",
    "print(\"Total months: \", total_months)\n",
    "print(\"Total: $\",(net_total))\n",
    "print(\"Average Change: $\", (average_change))\n",
    "print(\"Greatest Increase in Profits:\", greatest_increase[0], \"($\", greatest_increase[1], \")\")\n",
    "print(\"Greatest Decrease in Profits:\", greatest_decrease[0], \"($\", greatest_decrease[1], \")\")\n"
   ]
  },
  {
   "cell_type": "code",
   "execution_count": null,
   "id": "6ec289a6-b0ab-445c-a632-0b72cb1b4dd0",
   "metadata": {},
   "outputs": [],
   "source": []
  },
  {
   "cell_type": "code",
   "execution_count": null,
   "id": "f716450f-67cd-49ea-9f04-c1a7776f85a6",
   "metadata": {},
   "outputs": [],
   "source": []
  },
  {
   "cell_type": "code",
   "execution_count": null,
   "id": "157bc67f-67f5-49bc-b1bb-bd0e04079006",
   "metadata": {},
   "outputs": [],
   "source": []
  },
  {
   "cell_type": "code",
   "execution_count": null,
   "id": "e1e8ed83-ee1d-415d-ba15-e1684197ec9a",
   "metadata": {},
   "outputs": [],
   "source": []
  },
  {
   "cell_type": "code",
   "execution_count": null,
   "id": "332355ff-bb43-44f0-a76a-82fa4b80ba34",
   "metadata": {},
   "outputs": [],
   "source": []
  }
 ],
 "metadata": {
  "kernelspec": {
   "display_name": "Python 3 (ipykernel)",
   "language": "python",
   "name": "python3"
  },
  "language_info": {
   "codemirror_mode": {
    "name": "ipython",
    "version": 3
   },
   "file_extension": ".py",
   "mimetype": "text/x-python",
   "name": "python",
   "nbconvert_exporter": "python",
   "pygments_lexer": "ipython3",
   "version": "3.11.5"
  }
 },
 "nbformat": 4,
 "nbformat_minor": 5
}
