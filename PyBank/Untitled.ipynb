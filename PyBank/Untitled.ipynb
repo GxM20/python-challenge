{
 "cells": [
  {
   "cell_type": "code",
   "execution_count": 1,
   "id": "e80a52dc-cbdd-4087-bfaa-3d291ad37207",
   "metadata": {},
   "outputs": [],
   "source": [
    "# import functions and libraries\n",
    "\n",
    "from pathlib import Path\n",
    "import csv\n",
    "\n",
    "# initialize record list and line_num variable\n",
    "record = []\n",
    "entries = 0\n",
    "#line_num = 0\n",
    "total_months = 0\n",
    "net_total = 0\n",
    "greatest_increase = [\"\", 0]\n",
    "greatest_decrease = [\"\", 9999999999999999999]"
   ]
  },
  {
   "cell_type": "code",
   "execution_count": 2,
   "id": "82e5d489-a024-4e77-b45a-cd823e0acc9c",
   "metadata": {},
   "outputs": [],
   "source": [
    "# look for input file\n",
    "csvpath = Path(\"Starter_Code/PyBank/Resources/budget_data.csv\")"
   ]
  },
  {
   "cell_type": "code",
   "execution_count": 3,
   "id": "94273bb8-7fcf-4c8a-9634-bd4e2486a876",
   "metadata": {},
   "outputs": [
    {
     "ename": "FileNotFoundError",
     "evalue": "[Errno 2] No such file or directory: 'Starter_Code/PyBank/Resources/budget_data.csv'",
     "output_type": "error",
     "traceback": [
      "\u001b[0;31m---------------------------------------------------------------------------\u001b[0m",
      "\u001b[0;31mFileNotFoundError\u001b[0m                         Traceback (most recent call last)",
      "Cell \u001b[0;32mIn[3], line 2\u001b[0m\n\u001b[1;32m      1\u001b[0m \u001b[38;5;66;03m# open the file in read mode\u001b[39;00m\n\u001b[0;32m----> 2\u001b[0m \u001b[38;5;28;01mwith\u001b[39;00m \u001b[38;5;28mopen\u001b[39m(csvpath, \u001b[38;5;124m'\u001b[39m\u001b[38;5;124mr\u001b[39m\u001b[38;5;124m'\u001b[39m) \u001b[38;5;28;01mas\u001b[39;00m csvfile:\n\u001b[1;32m      3\u001b[0m     csvreader \u001b[38;5;241m=\u001b[39m csv\u001b[38;5;241m.\u001b[39mreader(csvfile, delimiter\u001b[38;5;241m=\u001b[39m\u001b[38;5;124m'\u001b[39m\u001b[38;5;124m,\u001b[39m\u001b[38;5;124m'\u001b[39m)\n\u001b[1;32m      4\u001b[0m     header \u001b[38;5;241m=\u001b[39m \u001b[38;5;28mnext\u001b[39m(csvreader)\n",
      "File \u001b[0;32m~/Desktop/anaconda3/lib/python3.11/site-packages/IPython/core/interactiveshell.py:286\u001b[0m, in \u001b[0;36m_modified_open\u001b[0;34m(file, *args, **kwargs)\u001b[0m\n\u001b[1;32m    279\u001b[0m \u001b[38;5;28;01mif\u001b[39;00m file \u001b[38;5;129;01min\u001b[39;00m {\u001b[38;5;241m0\u001b[39m, \u001b[38;5;241m1\u001b[39m, \u001b[38;5;241m2\u001b[39m}:\n\u001b[1;32m    280\u001b[0m     \u001b[38;5;28;01mraise\u001b[39;00m \u001b[38;5;167;01mValueError\u001b[39;00m(\n\u001b[1;32m    281\u001b[0m         \u001b[38;5;124mf\u001b[39m\u001b[38;5;124m\"\u001b[39m\u001b[38;5;124mIPython won\u001b[39m\u001b[38;5;124m'\u001b[39m\u001b[38;5;124mt let you open fd=\u001b[39m\u001b[38;5;132;01m{\u001b[39;00mfile\u001b[38;5;132;01m}\u001b[39;00m\u001b[38;5;124m by default \u001b[39m\u001b[38;5;124m\"\u001b[39m\n\u001b[1;32m    282\u001b[0m         \u001b[38;5;124m\"\u001b[39m\u001b[38;5;124mas it is likely to crash IPython. If you know what you are doing, \u001b[39m\u001b[38;5;124m\"\u001b[39m\n\u001b[1;32m    283\u001b[0m         \u001b[38;5;124m\"\u001b[39m\u001b[38;5;124myou can use builtins\u001b[39m\u001b[38;5;124m'\u001b[39m\u001b[38;5;124m open.\u001b[39m\u001b[38;5;124m\"\u001b[39m\n\u001b[1;32m    284\u001b[0m     )\n\u001b[0;32m--> 286\u001b[0m \u001b[38;5;28;01mreturn\u001b[39;00m io_open(file, \u001b[38;5;241m*\u001b[39margs, \u001b[38;5;241m*\u001b[39m\u001b[38;5;241m*\u001b[39mkwargs)\n",
      "\u001b[0;31mFileNotFoundError\u001b[0m: [Errno 2] No such file or directory: 'Starter_Code/PyBank/Resources/budget_data.csv'"
     ]
    }
   ],
   "source": [
    "# open the file in read mode\n",
    "with open(csvpath, 'r') as csvfile:\n",
    "    csvreader = csv.reader(csvfile, delimiter=',')\n",
    "    header = next(csvreader)\n",
    "   # line_num += 1\n",
    "# loop through file, sort and append variables\n",
    "    for row in csvreader:\n",
    "        date = row[0]\n",
    "        revenue = int(row[1])\n",
    "        record.append(revenue)\n",
    "        # Add the total number of months in dataset\n",
    "        total_months += 1\n",
    "        # Add up the total profit/losses over the entire period\n",
    "        net_total += revenue\n",
    "        if total_months > 1:\n",
    "            change_in_profit = revenue - record[total_months - 2]\n",
    "        \n",
    "    # Check if the current change is greater than the greatest increase\n",
    "        if change_in_profit > greatest_increase[1]:\n",
    "            greatest_increase[0] = date\n",
    "            greatest_increase[1] = change_in_profit\n",
    "\n",
    "print(\"Greatest Increase in Profits:\", greatest_increase[0], \"($\", greatest_increase[1], \")\")   \n",
    "print(record)\n",
    "print(\"Total months: \", total_months)\n",
    "print(\"Net Total: $\",(net_total))\n"
   ]
  },
  {
   "cell_type": "code",
   "execution_count": null,
   "id": "8172687e-8d23-4437-a791-acc4bae5e3c4",
   "metadata": {},
   "outputs": [],
   "source": []
  }
 ],
 "metadata": {
  "kernelspec": {
   "display_name": "Python 3 (ipykernel)",
   "language": "python",
   "name": "python3"
  },
  "language_info": {
   "codemirror_mode": {
    "name": "ipython",
    "version": 3
   },
   "file_extension": ".py",
   "mimetype": "text/x-python",
   "name": "python",
   "nbconvert_exporter": "python",
   "pygments_lexer": "ipython3",
   "version": "3.11.5"
  }
 },
 "nbformat": 4,
 "nbformat_minor": 5
}
