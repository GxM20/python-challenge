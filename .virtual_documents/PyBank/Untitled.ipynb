# import functions and libraries

from pathlib import Path
import csv

# initialize record list and line_num variable
record = []
entries = 0
#line_num = 0
total_months = 0
net_total = 0
greatest_increase = ["", 0]
greatest_decrease = ["", 9999999999999999999]


# look for input file
csvpath = Path("Starter_Code/PyBank/Resources/budget_data.csv")


# open the file in read mode
with open(csvpath, 'r') as csvfile:
    csvreader = csv.reader(csvfile, delimiter=',')
    header = next(csvreader)
   # line_num += 1
# loop through file, sort and append variables
    for row in csvreader:
        date = row[0]
        revenue = int(row[1])
        record.append(revenue)
        # Add the total number of months in dataset
        total_months += 1
        # Add up the total profit/losses over the entire period
        net_total += revenue
        if total_months > 1:
            change_in_profit = revenue - record[total_months - 2]
        
    # Check if the current change is greater than the greatest increase
        if change_in_profit > greatest_increase[1]:
            greatest_increase[0] = date
            greatest_increase[1] = change_in_profit

print("Greatest Increase in Profits:", greatest_increase[0], "($", greatest_increase[1], ")")   
print(record)
print("Total months: ", total_months)
print("Net Total: $",(net_total))




