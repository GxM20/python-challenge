# import functions and libraries

from pathlib import Path
import csv

# initialize lists and variables
record = []
changes = []
greatest_increase = ["", 0]
greatest_decrease = ["", 9999999999999999999]
entries = 0
total_months = 0
net_total = 0


# look for input file
csvpath = Path("Starter_Code/PyBank/Resources/budget_data.csv")


# open the file in read mode
with open(csvpath, 'r') as csvfile:
    csvreader = csv.reader(csvfile, delimiter=',')
    header = next(csvreader)
# loop through file, sort and append record list
    for row in csvreader:
        date = row[0]
        revenue = int(row[1])
        record.append(revenue)
        # Add up the total number of months in dataset
        total_months += 1
        # Add up the total profit/losses over the entire period
        net_total += revenue
        # Calculate the average change per month
        if total_months > 1:
            change_in_profit = revenue - record[total_months - 2]
            # append changes list from change_in_profit variable
            changes.append(change_in_profit)
            # definte average_change variable as sum of changes / length of changes
            average_change = sum(changes) / len(changes)
            # round off average_change to 2 decimal places
            rounded_average_change = round(average_change, 2)
        
    # Calculate greatest increase
            if change_in_profit > greatest_increase[1]:
                # add month of greatest increase to greatest_increase list
                greatest_increase[0] = date
                # add the change in profit for greatest increase to list
                greatest_increase[1] = change_in_profit
    # Calculate the greatest decrease
            if change_in_profit < greatest_decrease[1]:
                # add month of greatest decrease to greatest_decrease list
                greatest_decrease[0] = row[0]
                # add the change in profit for greatest decrease to list
                greatest_decrease[1] = change_in_profit
# Print outputs
print("Financial Analysis")
print("-------------------------")
print("Total months: ", total_months)
print("Total: $",(net_total))
print("Average Change: $", (rounded_average_change))
print("Greatest Increase in Profits:", greatest_increase[0], "($", greatest_increase[1], ")")
print("Greatest Decrease in Profits:", greatest_decrease[0], "($", greatest_decrease[1], ")")



#Specify output path
output_file_path = Path("Financial_Analysis.txt")

#Open file in write mode
with open (output_file_path, 'w') as output_file:
    #import sys function to change output stream
    import sys
    #direct output to the txt file
    sys.stdout = output_file
    print("Financial Analysis")
    print("-------------------------")
    print("Total months: ", total_months)
    print("Total: $",(net_total))
    print("Average Change: $", (rounded_average_change))
    print("Greatest Increase in Profits:", greatest_increase[0], "($", greatest_increase[1], ")")
    print("Greatest Decrease in Profits:", greatest_decrease[0], "($", greatest_decrease[1], ")")

sys.stdout = sys.__stdout__
# Tell user the results have been exported
print(f"Results exported to '{output_file_path}'")






