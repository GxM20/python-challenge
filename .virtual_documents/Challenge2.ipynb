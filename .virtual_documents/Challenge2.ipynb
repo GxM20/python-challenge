# import functions and libraries

from pathlib import Path
import csv

# initialize record list and line_num variable
record = []
entries = 0
line_num = 0


# look for input file
csvpath = Path("Starter_Code/PyBank/Resources/budget_data.csv")


# open the file in read mode
with open(csvpath, 'r') as csvfile:
    csvreader = csv.reader(csvfile, delimiter=',')
    header = next(csvreader)
    line_num += 1
# loop through file, sort and append variables
    for row in csvreader:
        date = row[0]
        revenue = int(row[1])
        record.append(revenue)
print(record)



# initialize metrics
total_months = 0
total_revenue = 0
greatest_increase = 0
greatest_decrease = 0
avg_profit = 0


# Calculate best day, worst day, and average
for revenue in record:

# add up entries and revenue
    entries += 1
    total_revenue += revenue
    if revenue == 0:
        greatest_increase = revenue
    elif greatest_increase > revenue:
        greatest_increase = revenue
print(revenue)
    


#Add the total number of months in the dataset
