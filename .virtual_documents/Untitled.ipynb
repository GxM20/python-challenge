# import functions and libraries

from pathlib import Path
import csv

# initialize record list and line_num variable
record = []
entries = 0
line_num = 0
total_months = 0
net_total = 0


# look for input file
csvpath = Path("Starter_Code/PyBank/Resources/budget_data.csv")


# open the file in read mode
with open(csvpath, 'r') as csvfile:
    csvreader = csv.reader(csvfile, delimiter=',')
    header = next(csvreader)
    line_num += 1
# loop through file, sort and append variables
    for row in csvreader:
        date = row[0]
        revenue = int(row[1])
        record.append(revenue)
        # Add the total number of months in dataset
        total_months += 1
        # Add up the total profit/losses over the entire period
        net_total += revenue
print(record)
print("Total months: ", total_months)
print("Net Total: ${:,.2f}".format(net_total))



#Calculate the net total amount of profit/losses over the entire period
